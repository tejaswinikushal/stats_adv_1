{
 "cells": [
  {
   "cell_type": "markdown",
   "id": "61958163",
   "metadata": {},
   "source": [
    "#### Q1. What is the Probability density function?"
   ]
  },
  {
   "cell_type": "markdown",
   "id": "65bd7583",
   "metadata": {},
   "source": [
    "The Probability Density Function (PDF) is a function used in probability theory for continuous random variables. It describes the likelihood of a random variable taking on a specific value or falling within a particular range. The area under the PDF curve within a given interval represents the probability of the variable being in that interval. The integral of the PDF over the entire range is equal to 1."
   ]
  },
  {
   "cell_type": "markdown",
   "id": "4cd6c0f1",
   "metadata": {},
   "source": [
    "#### Q2. What are the types of Probability distribution?"
   ]
  },
  {
   "cell_type": "markdown",
   "id": "ed5d538a",
   "metadata": {},
   "source": [
    "#### There are two main types of probability distributions:\n",
    "\n",
    "#### Discrete Probability Distributions:\n",
    "\n",
    "Bernoulli Distribution (2 possible outcomes).\n",
    "\n",
    "Binomial Distribution (multiple Bernoulli trials).\n",
    "\n",
    "Poisson Distribution (events in fixed intervals).\n",
    "#### Continuous Probability Distributions:\n",
    "\n",
    "Normal Distribution (bell-shaped curve).\n",
    "\n",
    "Uniform Distribution (equal probability for all outcomes).\n",
    "\n",
    "Exponential Distribution (time between events).\n",
    "\n",
    "Gamma Distribution, Beta Distribution, etc. (various distributions for specific applications)."
   ]
  },
  {
   "cell_type": "markdown",
   "id": "841ada7a",
   "metadata": {},
   "source": [
    "#### Q3. Write a Python function to calculate the probability density function of a normal distribution with given mean and standard deviation at a given point."
   ]
  },
  {
   "cell_type": "code",
   "execution_count": 1,
   "id": "1b8bba0e",
   "metadata": {},
   "outputs": [
    {
     "name": "stdout",
     "output_type": "stream",
     "text": [
      "PDF at 1.5: 0.12951759566589174\n"
     ]
    }
   ],
   "source": [
    "from scipy.stats import norm\n",
    "\n",
    "def normal_pdf(x, mean, std_dev):\n",
    "    pdf_value = norm.pdf(x, loc=mean, scale=std_dev)\n",
    "    return pdf_value\n",
    "\n",
    "mean_value = 0\n",
    "std_dev_value = 1\n",
    "point = 1.5\n",
    "\n",
    "pdf_at_point = normal_pdf(point, mean_value, std_dev_value)\n",
    "print(f\"PDF at {point}: {pdf_at_point}\")"
   ]
  },
  {
   "cell_type": "markdown",
   "id": "37be9064",
   "metadata": {},
   "source": [
    "#### Q4. What are the properties of Binomial distribution? Give two examples of events where binomial distribution can be applied."
   ]
  },
  {
   "cell_type": "markdown",
   "id": "495a33bd",
   "metadata": {},
   "source": [
    "#### Properties of Binomial Distribution:\n",
    "\n",
    "Discreteness: The binomial distribution is applicable to discrete random variables, specifically counting the number of successes in a fixed number of trials.\n",
    "\n",
    "Two Possible Outcomes: Each trial results in one of two outcomes – success or failure.\n",
    "\n",
    "Fixed Number of Trials: The distribution is defined for a predetermined, fixed number of independent and identical trials.\n",
    "\n",
    "Independence: Each trial is assumed to be independent of the others.\n",
    "\n",
    "Constant Probability: The probability of success remains constant across all trials.\n",
    "\n",
    "Parameters: Characterized by two parameters – \n",
    "n (number of trials) and \n",
    "p (probability of success).\n",
    "\n",
    "Examples of Binomial Distribution Applications:\n",
    "\n",
    "Coin Flips:\n",
    "\n",
    "Experiment: Tossing a fair coin.\n",
    "Binomial Variables: Success (heads) or failure (tails).\n",
    "Parameters: \n",
    "\n",
    "n= number of coin tosses, \n",
    "p= probability of getting heads (0.5 for a fair coin).\n",
    "Medical Trials:\n",
    "\n",
    "Experiment: Testing the effectiveness of a new drug on a group of patients.\n",
    "Binomial Variables: Success (patient recovers) or failure (patient does not recover).\n",
    "Parameters: \n",
    "n= number of patients in the trial, \n",
    "\n",
    "p= probability of a patient recovering."
   ]
  },
  {
   "cell_type": "markdown",
   "id": "5621a7ae",
   "metadata": {},
   "source": [
    "##### Q5. Generate a random sample of size 1000 from a binomial distribution with probability of success 0.4 and plot a histogram of the results using matplotlib."
   ]
  },
  {
   "cell_type": "code",
   "execution_count": 2,
   "id": "f15108a4",
   "metadata": {},
   "outputs": [
    {
     "data": {
      "image/png": "[encoded data removed]",
      "text/plain": [
       "<Figure size 640x480 with 1 Axes>"
      ]
     },
     "metadata": {},
     "output_type": "display_data"
    }
   ],
   "source": [
    "import numpy as np\n",
    "import matplotlib.pyplot as plt\n",
    "\n",
    "# Set the seed for reproducibility\n",
    "np.random.seed(42)\n",
    "\n",
    "# Generate a random sample of size 1000 from a binomial distribution\n",
    "sample_size = 1000\n",
    "probability_of_success = 0.4\n",
    "binomial_sample = np.random.binomial(1, probability_of_success, sample_size)\n",
    "\n",
    "# Plotting the histogram\n",
    "plt.hist(binomial_sample, bins=[-0.5, 0.5, 1.5], edgecolor='black', align='mid')\n",
    "plt.title('Binomial Distribution - Random Sample')\n",
    "plt.xlabel('Outcome (0: Failure, 1: Success)')\n",
    "plt.ylabel('Frequency')\n",
    "plt.show()\n"
   ]
  },
  {
   "cell_type": "markdown",
   "id": "ec9c88ba",
   "metadata": {},
   "source": [
    "#### Q6. Write a Python function to calculate the cumulative distribution function of a Poisson distribution with given mean at a given point."
   ]
  },
  {
   "cell_type": "code",
   "execution_count": 3,
   "id": "535caf7f",
   "metadata": {},
   "outputs": [
    {
     "name": "stdout",
     "output_type": "stream",
     "text": [
      "CDF at 5: 0.9160820579686966\n"
     ]
    }
   ],
   "source": [
    "from scipy.stats import poisson\n",
    "\n",
    "def poisson_cdf(k, mean):\n",
    "    cdf_value = poisson.cdf(k, mu=mean)\n",
    "    return cdf_value\n",
    "\n",
    "mean_value = 3\n",
    "point = 5\n",
    "\n",
    "cdf_at_point = poisson_cdf(point, mean_value)\n",
    "print(f\"CDF at {point}: {cdf_at_point}\")"
   ]
  },
  {
   "cell_type": "markdown",
   "id": "2c5e86e1",
   "metadata": {},
   "source": [
    "#### Q7. How Binomial distribution different from Poisson distribution?"
   ]
  },
  {
   "cell_type": "markdown",
   "id": "2efc9b26",
   "metadata": {},
   "source": [
    "#### Binomial Distribution vs. Poisson Distribution:\n",
    "\n",
    "#### Number of Trials:\n",
    "\n",
    "Binomial: Fixed and known in advance.\n",
    "\n",
    "Poisson: Not fixed; often used for events in a continuous process.\n",
    "#### Nature of Trials:\n",
    "\n",
    "Binomial: Two possible outcomes (success or failure).\n",
    "\n",
    "Poisson: Describes the number of events in a continuous process.\n",
    "#### Independence:\n",
    "\n",
    "Binomial: Assumes independence between trials.\n",
    "\n",
    "Poisson: Assumes events occur independently but not divided into distinct trials.\n",
    "#### Probability of Success:\n",
    "\n",
    "Binomial: Constant across all trials.\n",
    "\n",
    "Poisson: Describes rare events with a very small probability of success."
   ]
  },
  {
   "cell_type": "markdown",
   "id": "0a500dab",
   "metadata": {},
   "source": [
    "#### Q8. Generate a random sample of size 1000 from a Poisson distribution with mean 5 and calculate the sample mean and variance."
   ]
  },
  {
   "cell_type": "code",
   "execution_count": 4,
   "id": "58369ccd",
   "metadata": {},
   "outputs": [
    {
     "name": "stdout",
     "output_type": "stream",
     "text": [
      "Sample Mean: 4.985\n",
      "Sample Variance: 4.9967749999999995\n"
     ]
    }
   ],
   "source": [
    "import numpy as np\n",
    "\n",
    "np.random.seed(42)\n",
    "sample_size = 1000\n",
    "mean_value = 5\n",
    "poisson_sample = np.random.poisson(mean_value, sample_size)\n",
    "\n",
    "sample_mean = np.mean(poisson_sample)\n",
    "sample_variance = np.var(poisson_sample)\n",
    "\n",
    "print(f\"Sample Mean: {sample_mean}\")\n",
    "print(f\"Sample Variance: {sample_variance}\")\n"
   ]
  },
  {
   "cell_type": "markdown",
   "id": "5e95feed",
   "metadata": {},
   "source": [
    "#### Q9. How mean and variance are related in Binomial distribution and Poisson distribution?"
   ]
  },
  {
   "cell_type": "markdown",
   "id": "2378368c",
   "metadata": {},
   "source": [
    " The mean  and variance  of probability distributions provide important information about the central tendency and spread of the distribution.\n",
    " \n",
    " #### Binomial Distribution:\n",
    "\n",
    "For a Binomial distribution with parameters \n",
    "\n",
    "μ=np\n",
    "variance=np(1−p)\n",
    "\n",
    "#### Poission Distribution:\n",
    "\n",
    "μ=λ\n",
    "\n",
    "variance=λ"
   ]
  },
  {
   "cell_type": "markdown",
   "id": "08eb7305",
   "metadata": {},
   "source": [
    "#### Q10. In normal distribution with respect to mean position, where does the least frequent data appear?"
   ]
  },
  {
   "cell_type": "markdown",
   "id": "472bf0ab",
   "metadata": {},
   "source": [
    "In a normal distribution, the least frequent data appears in the tails of the distribution, farthest away from the mean. The normal distribution is symmetric, and its shape is often described as a bell curve. The mean (average) is at the center of the distribution, and the probability density decreases as you move away from the mean in both directions.\n",
    "\n",
    "#### Specifically:\n",
    "\n",
    "Tails: The data points in the tails (extreme ends) of the distribution, located at the far left and far right, represent values that are less likely to occur. These are the least frequent data points.\n",
    "\n",
    "Central Region: The data points near the mean are more frequent and represent values that are more likely to occur.\n",
    "\n",
    "In a standard normal distribution (with a mean of 0 and a standard deviation of 1), about 68% of the data falls within one standard deviation of the mean, 95% within two standard deviations, and approximately 99.7% within three standard deviations. The extreme tails (beyond three standard deviations) contain a very small percentage of the data and represent the least frequent occurrences."
   ]
  },
  {
   "cell_type": "code",
   "execution_count": null,
   "id": "f6fe9f35",
   "metadata": {},
   "outputs": [],
   "source": []
  }
 ],
 "metadata": {
  "kernelspec": {
   "display_name": "Python 3 (ipykernel)",
   "language": "python",
   "name": "python3"
  },
  "language_info": {
   "codemirror_mode": {
    "name": "ipython",
    "version": 3
   },
   "file_extension": ".py",
   "mimetype": "text/x-python",
   "name": "python",
   "nbconvert_exporter": "python",
   "pygments_lexer": "ipython3",
   "version": "3.11.2"
  }
 },
 "nbformat": 4,
 "nbformat_minor": 5
}
